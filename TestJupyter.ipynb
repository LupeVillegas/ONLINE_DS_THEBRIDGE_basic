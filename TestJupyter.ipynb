{
 "cells": [
  {
   "cell_type": "code",
   "execution_count": 1,
   "id": "49a57828-8059-42c6-994f-eddc5d60c1f1",
   "metadata": {},
   "outputs": [
    {
     "name": "stdout",
     "output_type": "stream",
     "text": [
      "Hola Mundo\n"
     ]
    }
   ],
   "source": [
    "print(\"Hola Mundo\")"
   ]
  },
  {
   "cell_type": "markdown",
   "id": "e63cbd28-efba-46f4-b37f-bc20c10d868c",
   "metadata": {},
   "source": [
    "Hey mundo!"
   ]
  },
  {
   "cell_type": "code",
   "execution_count": 2,
   "id": "71bddae1-6068-4a37-8b9c-1026ba5784e1",
   "metadata": {},
   "outputs": [
    {
     "name": "stdout",
     "output_type": "stream",
     "text": [
      "Holistas\n"
     ]
    }
   ],
   "source": [
    "print(\"Holistas\")"
   ]
  },
  {
   "cell_type": "code",
   "execution_count": null,
   "id": "cf3f13b2-2678-436d-aae1-985ed1f3e768",
   "metadata": {},
   "outputs": [],
   "source": []
  }
 ],
 "metadata": {
  "kernelspec": {
   "display_name": "Python 3 (ipykernel)",
   "language": "python",
   "name": "python3"
  },
  "language_info": {
   "codemirror_mode": {
    "name": "ipython",
    "version": 3
   },
   "file_extension": ".py",
   "mimetype": "text/x-python",
   "name": "python",
   "nbconvert_exporter": "python",
   "pygments_lexer": "ipython3",
   "version": "3.10.16"
  }
 },
 "nbformat": 4,
 "nbformat_minor": 5
}
